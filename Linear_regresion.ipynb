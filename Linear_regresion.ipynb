{
  "nbformat": 4,
  "nbformat_minor": 0,
  "metadata": {
    "colab": {
      "provenance": [],
      "authorship_tag": "ABX9TyO85HGAt4Wd2aTq8k2XDd9I",
      "include_colab_link": true
    },
    "kernelspec": {
      "name": "python3",
      "display_name": "Python 3"
    },
    "language_info": {
      "name": "python"
    }
  },
  "cells": [
    {
      "cell_type": "markdown",
      "metadata": {
        "id": "view-in-github",
        "colab_type": "text"
      },
      "source": [
        "<a href=\"https://colab.research.google.com/github/JagadeeshKrishnaSNunna/Air-Pollution-Monitoring-System/blob/master/Linear_regresion.ipynb\" target=\"_parent\"><img src=\"https://colab.research.google.com/assets/colab-badge.svg\" alt=\"Open In Colab\"/></a>"
      ]
    },
    {
      "cell_type": "code",
      "source": [
        "import numpy as np\n",
        "import pandas as pd\n",
        "import matplotlib.pyplot as plt"
      ],
      "metadata": {
        "id": "3hI45ipi5pwT"
      },
      "execution_count": null,
      "outputs": []
    },
    {
      "cell_type": "code",
      "execution_count": null,
      "metadata": {
        "id": "JN1SaLpi1HEF"
      },
      "outputs": [],
      "source": [
        "def init(num_variables):\n",
        "  para=[]\n",
        "  for _ in range(num_variables+1):\n",
        "    para.append(np.random.randn())\n",
        "  return np.array(para).reshape(num_variables+1,1)\n",
        "\n",
        "def forwardPass(parameters,x):\n",
        "  return np.dot(x,parameters)\n",
        "\n",
        "def MSE(y,y_hat):\n",
        "  return (0.5)*np.mean((y_hat-y)**2)\n",
        "\n",
        "def backpass(x,y,y_hat,parameters,lr):\n",
        "  m=x.shape[0]\n",
        "  grad=np.dot(x.T, (y_hat - y)) / m\n",
        "  parameters=parameters-(lr*grad)\n",
        "  return parameters\n",
        "\n",
        "def BIC(y,y_hat,k):\n",
        "  rss=np.sum((y-y_hat)**2)\n",
        "  m=len(y)\n",
        "  L = -0.5 * m * np.log(rss / m)\n",
        "  return (k * np.log(m) - 2 * L)\n",
        "\n",
        "def R_square(y,y_hat):\n",
        "  y_mean=np.mean(y)\n",
        "  ss_total=np.sum((y-y_mean)**2)\n",
        "  ssr=np.sum((y-y_hat)**2)\n",
        "  return 1-(ssr/ss_total)\n",
        "\n",
        "def Adjusted_R_2(r2,m,k):\n",
        "  return (1-((1-r2)*(m-1)/(m-k-1)))\n",
        "\n",
        "def evaluate(y_hat,y,k):\n",
        "  mse=MSE(y,y_hat)\n",
        "  r2=R_square(y,y_hat)\n",
        "  ar2=Adjusted_R_2(r2,len(y),k)\n",
        "  bic=BIC(y,y_hat,k)\n",
        "  return {\n",
        "      \"MSE\":mse,\"R2\":r2,\"Ar2\":ar2,\"BIC\":bic\n",
        "  }\n",
        "\n",
        "\n",
        "def plotFigure(name,values,ylabel):\n",
        "  plt.xlabel(\"epochs\")\n",
        "  plt.ylabel(ylabel)\n",
        "  plt.plot(values,label=ylabel)\n",
        "  plt.title(name)\n",
        "  plt.legend()\n",
        "  plt.show()\n",
        "\n"
      ]
    },
    {
      "cell_type": "code",
      "source": [
        "df=pd.read_csv(\"/content/Cancer_dataset.csv\",usecols=['mean_radius', 'mean_perimeter', 'mean_area','mean_smoothness','mean_symmetry',\n",
        "'mean_fractal_dimension',\n",
        "'worst_radius',\n",
        "'worst_area','mean_texture',\n",
        "'worst_symmetry','tumor_size',\n",
        "'lymph_node_status'])\n",
        "print(df.isna().any())\n",
        "df.fillna(value=df.mean(numeric_only=True),inplace=True)"
      ],
      "metadata": {
        "id": "aZkbST1zLd4m",
        "colab": {
          "base_uri": "https://localhost:8080/"
        },
        "outputId": "fe7fbd94-99b9-40a9-a553-00864e713b27"
      },
      "execution_count": null,
      "outputs": [
        {
          "output_type": "stream",
          "name": "stdout",
          "text": [
            "mean_radius                True\n",
            "mean_texture               True\n",
            "mean_perimeter            False\n",
            "mean_area                 False\n",
            "mean_smoothness           False\n",
            "mean_symmetry             False\n",
            "mean_fractal_dimension    False\n",
            "worst_radius              False\n",
            "worst_area                False\n",
            "worst_symmetry            False\n",
            "tumor_size                False\n",
            "lymph_node_status          True\n",
            "dtype: bool\n"
          ]
        }
      ]
    },
    {
      "cell_type": "code",
      "source": [
        "\n",
        "lr=0.003\n",
        "num_predictors=1\n",
        "parameters=init(num_predictors)\n",
        "print(parameters)\n",
        "epochs=20\n",
        "losses=[]"
      ],
      "metadata": {
        "id": "j9xOPggz1-R_",
        "colab": {
          "base_uri": "https://localhost:8080/"
        },
        "outputId": "78e60fd2-43ef-42fb-9a4f-85a59f073bfd"
      },
      "execution_count": null,
      "outputs": [
        {
          "output_type": "stream",
          "name": "stdout",
          "text": [
            "[[0.09951576]\n",
            " [0.22855415]]\n"
          ]
        }
      ]
    },
    {
      "cell_type": "code",
      "source": [
        "m,n=df.shape\n",
        "x=df['mean_texture']\n",
        "y=df['tumor_size']\n",
        "x_raw=np.array(x).reshape(m,num_predictors)\n",
        "y=np.array(y).reshape(m,1)\n",
        "x=np.concatenate((np.array([[1]]*x_raw.shape[0]),x_raw),axis=1)"
      ],
      "metadata": {
        "id": "pp650XQONP2S"
      },
      "execution_count": null,
      "outputs": []
    },
    {
      "cell_type": "code",
      "source": [
        "for _ in range(epochs):\n",
        "  y_hat=forwardPass(parameters,x)\n",
        "  losses.append(MSE(y_hat,y))\n",
        "  parameters=backpass(x,y,y_hat,parameters,lr)"
      ],
      "metadata": {
        "id": "D7HM1eXr7dQU",
        "colab": {
          "base_uri": "https://localhost:8080/"
        },
        "outputId": "cba6659c-54f6-49da-8adb-6de0e1cfa57a"
      },
      "execution_count": null,
      "outputs": [
        {
          "output_type": "stream",
          "name": "stdout",
          "text": [
            "(2, 1)\n",
            "(2, 1)\n",
            "(2, 1)\n",
            "(2, 1)\n",
            "(2, 1)\n",
            "(2, 1)\n",
            "(2, 1)\n",
            "(2, 1)\n",
            "(2, 1)\n",
            "(2, 1)\n",
            "(2, 1)\n",
            "(2, 1)\n",
            "(2, 1)\n",
            "(2, 1)\n",
            "(2, 1)\n",
            "(2, 1)\n",
            "(2, 1)\n",
            "(2, 1)\n",
            "(2, 1)\n",
            "(2, 1)\n"
          ]
        }
      ]
    },
    {
      "cell_type": "code",
      "source": [
        "losses"
      ],
      "metadata": {
        "colab": {
          "base_uri": "https://localhost:8080/"
        },
        "id": "pxPtDzfZ5MdO",
        "outputId": "fdbe939a-b7d9-4111-ebe8-92626ef144d1"
      },
      "execution_count": null,
      "outputs": [
        {
          "output_type": "execute_result",
          "data": {
            "text/plain": [
              "[5.040777494767021,\n",
              " 2.899767655037207,\n",
              " 2.2498429288070287,\n",
              " 2.052541747163108,\n",
              " 1.992635858640872,\n",
              " 1.9744367433215293,\n",
              " 1.9688978522303469,\n",
              " 1.9672020147380869,\n",
              " 1.9666727511711952,\n",
              " 1.966497607767804,\n",
              " 1.9664299616512804,\n",
              " 1.9663949496768072,\n",
              " 1.9663698469024207,\n",
              " 1.9663477551004118,\n",
              " 1.9663265802916001,\n",
              " 1.9663056868414448,\n",
              " 1.9662848818004723,\n",
              " 1.9662641065976454,\n",
              " 1.9662433434529196,\n",
              " 1.9662225869684844]"
            ]
          },
          "metadata": {},
          "execution_count": 23
        }
      ]
    },
    {
      "cell_type": "code",
      "source": [
        "plotFigure(\"Mean Squared Error\",losses,\"MSE\")"
      ],
      "metadata": {
        "colab": {
          "base_uri": "https://localhost:8080/",
          "height": 472
        },
        "id": "4dR6N3JxCEJ_",
        "outputId": "e47cf1d0-466a-4f8b-932d-88f9b2c58548"
      },
      "execution_count": null,
      "outputs": [
        {
          "output_type": "display_data",
          "data": {
            "text/plain": [
              "<Figure size 640x480 with 1 Axes>"
            ],
            "image/png": "[encoded data removed]"
          },
          "metadata": {}
        }
      ]
    },
    {
      "cell_type": "code",
      "source": [
        "plt.scatter(x_raw,y)\n",
        "plt.plot(x_raw,y_hat,color='r',label=\"Linear model\")\n",
        "plt.plot(x_raw,[y.mean()]*x_raw.shape[0],color='g',label=\"y mean\")\n",
        "plt.legend(loc=\"upper right\")"
      ],
      "metadata": {
        "colab": {
          "base_uri": "https://localhost:8080/",
          "height": 447
        },
        "id": "8A7pBFWgJ395",
        "outputId": "e9330778-caef-434a-a50c-b9a61ac1693c"
      },
      "execution_count": null,
      "outputs": [
        {
          "output_type": "execute_result",
          "data": {
            "text/plain": [
              "<matplotlib.legend.Legend at 0x7d712d803d10>"
            ]
          },
          "metadata": {},
          "execution_count": 25
        },
        {
          "output_type": "display_data",
          "data": {
            "text/plain": [
              "<Figure size 640x480 with 1 Axes>"
            ],
            "image/png": "[encoded data removed]"
          },
          "metadata": {}
        }
      ]
    },
    {
      "cell_type": "code",
      "source": [
        "q1_model_metrics=evaluate(y_hat,y,num_predictors)\n",
        "q1_model_metrics\n"
      ],
      "metadata": {
        "colab": {
          "base_uri": "https://localhost:8080/"
        },
        "id": "fDAzJlrmMsBZ",
        "outputId": "2d2596a0-7000-4cff-888b-bdaa4706e442"
      },
      "execution_count": null,
      "outputs": [
        {
          "output_type": "execute_result",
          "data": {
            "text/plain": [
              "{'MSE': 1.9662225869684844,\n",
              " 'R2': -0.05237435133639323,\n",
              " 'Ar2': -0.05774360823096658,\n",
              " 'BIC': 276.4020270165063}"
            ]
          },
          "metadata": {},
          "execution_count": 26
        }
      ]
    },
    {
      "cell_type": "markdown",
      "source": [
        "---\n",
        "**Question-2**\n",
        "\n",
        "---\n",
        "\n"
      ],
      "metadata": {
        "id": "WMq2ujOKJp7e"
      }
    },
    {
      "cell_type": "code",
      "source": [
        "x2=df[['mean_texture','lymph_node_status']]\n",
        "# x2=df[['mean_radius', 'mean_perimeter', 'mean_area','worst_symmetry','lymph_node_status']]\n",
        "y2=df['tumor_size']\n",
        "m,n=x2.shape\n",
        "x2_raw=np.array(x2).reshape(m,n)\n",
        "y2=np.array(y2).reshape(m,1)\n",
        "x2=np.concatenate((np.array([[1]]*x2_raw.shape[0]),x2_raw),axis=1)"
      ],
      "metadata": {
        "id": "V6-05rQlJuP2"
      },
      "execution_count": null,
      "outputs": []
    },
    {
      "cell_type": "code",
      "source": [
        "lr=0.003\n",
        "# num_predictors=5\n",
        "num_predictors=2\n",
        "parameters2=init(num_predictors)\n",
        "print(parameters2)\n",
        "epochs=30\n",
        "losses2=[]"
      ],
      "metadata": {
        "colab": {
          "base_uri": "https://localhost:8080/"
        },
        "id": "KXYrp_HGKBCK",
        "outputId": "f5d28832-bc41-4e75-da57-1308533437ec"
      },
      "execution_count": null,
      "outputs": [
        {
          "output_type": "stream",
          "name": "stdout",
          "text": [
            "[[ 0.50333844]\n",
            " [-1.82626237]\n",
            " [ 1.2868875 ]]\n"
          ]
        }
      ]
    },
    {
      "cell_type": "code",
      "source": [
        "for _ in range(epochs):\n",
        "  y2_hat=forwardPass(parameters2,x2)\n",
        "  losses2.append(MSE(y2_hat,y2))\n",
        "  parameters2=backpass(x2,y2,y2_hat,parameters2,lr)"
      ],
      "metadata": {
        "id": "og5sq90DKB3-"
      },
      "execution_count": null,
      "outputs": []
    },
    {
      "cell_type": "code",
      "source": [
        "losses2"
      ],
      "metadata": {
        "colab": {
          "base_uri": "https://localhost:8080/"
        },
        "id": "-sDMzgCdLyqR",
        "outputId": "ebf4b0fa-f69c-469a-bd75-90bd0859a4d8"
      },
      "execution_count": null,
      "outputs": [
        {
          "output_type": "execute_result",
          "data": {
            "text/plain": [
              "[807.2925217837975,\n",
              " 289.1770394546667,\n",
              " 110.63868243468045,\n",
              " 48.02263672569799,\n",
              " 25.161108280452627,\n",
              " 16.084330356667518,\n",
              " 11.912688507529301,\n",
              " 9.589142034708638,\n",
              " 8.04385113626178,\n",
              " 6.888080986951655,\n",
              " 5.968946536620244,\n",
              " 5.217223901627518,\n",
              " 4.59499996115853,\n",
              " 4.077388584515619,\n",
              " 3.645916896050959,\n",
              " 3.2859474790695287,\n",
              " 2.9855280286603434,\n",
              " 2.734771882925616,\n",
              " 2.5254568829106945,\n",
              " 2.3507299787907834,\n",
              " 2.2048740749209905,\n",
              " 2.0831179704632117,\n",
              " 1.9814792599459468,\n",
              " 1.896633721695463,\n",
              " 1.8258064682656066,\n",
              " 1.7666811441785397,\n",
              " 1.7173241484605342,\n",
              " 1.6761213855570574,\n",
              " 1.6417254697874777,\n",
              " 1.6130116544291]"
            ]
          },
          "metadata": {},
          "execution_count": 80
        }
      ]
    },
    {
      "cell_type": "code",
      "source": [
        "plotFigure(\"Mean Squared Error\",losses2,\"MSE\")"
      ],
      "metadata": {
        "colab": {
          "base_uri": "https://localhost:8080/",
          "height": 472
        },
        "id": "gS26qBWtLsnE",
        "outputId": "4ce7e218-71c5-41a1-fb93-9b5848c70514"
      },
      "execution_count": null,
      "outputs": [
        {
          "output_type": "display_data",
          "data": {
            "text/plain": [
              "<Figure size 640x480 with 1 Axes>"
            ],
            "image/png": "[encoded data removed]"
          },
          "metadata": {}
        }
      ]
    },
    {
      "cell_type": "code",
      "source": [
        "q2_model_metrics=evaluate(y2_hat,y2,num_predictors)\n",
        "q2_model_metrics"
      ],
      "metadata": {
        "colab": {
          "base_uri": "https://localhost:8080/"
        },
        "id": "gfES4cEKMFSR",
        "outputId": "2f7d8272-f358-4672-cd5d-7529ac306c71"
      },
      "execution_count": null,
      "outputs": [
        {
          "output_type": "execute_result",
          "data": {
            "text/plain": [
              "{'MSE': 1.6130116544291,\n",
              " 'R2': 0.1366734850986253,\n",
              " 'Ar2': 0.12781885417655992,\n",
              " 'BIC': 242.4840746492978}"
            ]
          },
          "metadata": {},
          "execution_count": 82
        }
      ]
    },
    {
      "cell_type": "markdown",
      "source": [
        "If BIC does not improve, the new variable might be:\n",
        "\n",
        "✔ Not significantly improving model fit\n",
        "\n",
        "✔ Redundant (highly correlated with existing variables)\n",
        "\n",
        "✔ Penalized due to a small sample size\n",
        "\n",
        "✔ Adding noise instead of useful information\n"
      ],
      "metadata": {
        "id": "LvyPbU3olbrO"
      }
    },
    {
      "cell_type": "code",
      "source": [
        "abs(df.corr()['tumor_size']).sort_values()[-6:]"
      ],
      "metadata": {
        "colab": {
          "base_uri": "https://localhost:8080/",
          "height": 272
        },
        "id": "rCd9XlEsfmmd",
        "outputId": "422badf3-1444-48e7-fb98-e461957fbff4"
      },
      "execution_count": null,
      "outputs": [
        {
          "output_type": "execute_result",
          "data": {
            "text/plain": [
              "mean_radius          0.163221\n",
              "mean_perimeter       0.166489\n",
              "worst_symmetry       0.166561\n",
              "mean_area            0.174491\n",
              "lymph_node_status    0.485786\n",
              "tumor_size           1.000000\n",
              "Name: tumor_size, dtype: float64"
            ],
            "text/html": [
              "<div>\n",
              "<style scoped>\n",
              "    .dataframe tbody tr th:only-of-type {\n",
              "        vertical-align: middle;\n",
              "    }\n",
              "\n",
              "    .dataframe tbody tr th {\n",
              "        vertical-align: top;\n",
              "    }\n",
              "\n",
              "    .dataframe thead th {\n",
              "        text-align: right;\n",
              "    }\n",
              "</style>\n",
              "<table border=\"1\" class=\"dataframe\">\n",
              "  <thead>\n",
              "    <tr style=\"text-align: right;\">\n",
              "      <th></th>\n",
              "      <th>tumor_size</th>\n",
              "    </tr>\n",
              "  </thead>\n",
              "  <tbody>\n",
              "    <tr>\n",
              "      <th>mean_radius</th>\n",
              "      <td>0.163221</td>\n",
              "    </tr>\n",
              "    <tr>\n",
              "      <th>mean_perimeter</th>\n",
              "      <td>0.166489</td>\n",
              "    </tr>\n",
              "    <tr>\n",
              "      <th>worst_symmetry</th>\n",
              "      <td>0.166561</td>\n",
              "    </tr>\n",
              "    <tr>\n",
              "      <th>mean_area</th>\n",
              "      <td>0.174491</td>\n",
              "    </tr>\n",
              "    <tr>\n",
              "      <th>lymph_node_status</th>\n",
              "      <td>0.485786</td>\n",
              "    </tr>\n",
              "    <tr>\n",
              "      <th>tumor_size</th>\n",
              "      <td>1.000000</td>\n",
              "    </tr>\n",
              "  </tbody>\n",
              "</table>\n",
              "</div><br><label><b>dtype:</b> float64</label>"
            ]
          },
          "metadata": {},
          "execution_count": 38
        }
      ]
    },
    {
      "cell_type": "code",
      "source": [],
      "metadata": {
        "id": "bA2iXtnVmcf1"
      },
      "execution_count": null,
      "outputs": []
    },
    {
      "cell_type": "markdown",
      "source": [
        "\n",
        "\n",
        "---\n",
        "Question3\n",
        "---\n",
        "\n"
      ],
      "metadata": {
        "id": "YkExkaxbzuuk"
      }
    },
    {
      "cell_type": "code",
      "source": [],
      "metadata": {
        "id": "AUKOFv1h0GLJ"
      },
      "execution_count": null,
      "outputs": []
    },
    {
      "cell_type": "code",
      "source": [],
      "metadata": {
        "id": "btXRbWoW3Xy-"
      },
      "execution_count": null,
      "outputs": []
    },
    {
      "cell_type": "code",
      "source": [
        "variables=['mean_radius', 'mean_perimeter', 'mean_area','worst_symmetry','lymph_node_status']\n",
        "model={}\n",
        "best_variable=None\n",
        "best_parameters=[]\n",
        "best_model_metrics=None\n",
        "y_step=np.array(df['tumor_size']).reshape(df['tumor_size'].shape[0],1)\n",
        "\n",
        "choosen_vars=[]\n",
        "best_choosen_vars=[]\n",
        "variables_len=1\n",
        "\n",
        "\n",
        "for _ in range(5):\n",
        "  current_best_variable=None\n",
        "  current_best_parameters=[]\n",
        "  current_best_model_metrics=None\n",
        "  for var in variables:\n",
        "    x_step=np.array(df[choosen_vars+[var]])\n",
        "    x_step=x_step.reshape(x_step.shape[0],variables_len)\n",
        "    x_step=np.concatenate((np.array([[1]]*x_step.shape[0]),x_step),axis=1)\n",
        "\n",
        "    for _ in range(epochs):\n",
        "      X_transpose = x_step.T\n",
        "      params = np.linalg.inv(X_transpose.dot(x_step)).dot(X_transpose).dot(y_step)\n",
        "      y_step_hat=forwardPass(params,x_step)\n",
        "      # params=backpass(x_step,y_step,y_step_hat,params,lr)\n",
        "    metrics=evaluate(y_step_hat,y_step,variables_len)\n",
        "    print([choosen_vars+[var]],\"-->\",metrics['BIC'])\n",
        "    if(current_best_model_metrics==None or metrics['BIC']<current_best_model_metrics['BIC']):\n",
        "      current_best_model_metrics=metrics\n",
        "      current_best_parameters=params\n",
        "      current_best_variable=var\n",
        "\n",
        "  choosen_vars.append(current_best_variable)\n",
        "  variables.remove(current_best_variable)\n",
        "  if(best_model_metrics==None or current_best_model_metrics['BIC']<=best_model_metrics['BIC']):\n",
        "    best_model_metrics=current_best_model_metrics\n",
        "    best_parameters=current_best_parameters\n",
        "    best_variable=current_best_variable\n",
        "    best_choosen_vars=([choosen_vars+[current_best_variable]])\n",
        "  variables_len+=1"
      ],
      "metadata": {
        "colab": {
          "base_uri": "https://localhost:8080/"
        },
        "id": "8CqCfNq2zyHW",
        "outputId": "4d053e9d-a354-4c24-833b-f677dac9ba43"
      },
      "execution_count": null,
      "outputs": [
        {
          "output_type": "stream",
          "name": "stdout",
          "text": [
            "[['mean_radius']] --> 260.9478460919833\n",
            "[['mean_perimeter']] --> 260.7285508364861\n",
            "[['mean_area']] --> 260.1721631955296\n",
            "[['worst_symmetry']] --> 260.7236672015429\n",
            "[['lymph_node_status']] --> 212.99843345078943\n",
            "[['lymph_node_status', 'mean_radius']] --> 213.14444658420484\n",
            "[['lymph_node_status', 'mean_perimeter']] --> 213.58420286677247\n",
            "[['lymph_node_status', 'mean_area']] --> 212.99106928979793\n",
            "[['lymph_node_status', 'worst_symmetry']] --> 213.3629403891854\n",
            "[['lymph_node_status', 'mean_area', 'mean_radius']] --> 218.27899243703754\n",
            "[['lymph_node_status', 'mean_area', 'mean_perimeter']] --> 217.62399052019023\n",
            "[['lymph_node_status', 'mean_area', 'worst_symmetry']] --> 215.20426762722963\n",
            "[['lymph_node_status', 'mean_area', 'worst_symmetry', 'mean_radius']] --> 220.33757313410004\n",
            "[['lymph_node_status', 'mean_area', 'worst_symmetry', 'mean_perimeter']] --> 220.25386143879447\n",
            "[['lymph_node_status', 'mean_area', 'worst_symmetry', 'mean_perimeter', 'mean_radius']] --> 225.12037601684082\n"
          ]
        }
      ]
    },
    {
      "cell_type": "code",
      "source": [
        "set(best_choosen_vars[0])"
      ],
      "metadata": {
        "colab": {
          "base_uri": "https://localhost:8080/"
        },
        "id": "sucgZ_UoEOjF",
        "outputId": "6784235b-7eed-43dd-ec55-1827bfc358ec"
      },
      "execution_count": null,
      "outputs": [
        {
          "output_type": "execute_result",
          "data": {
            "text/plain": [
              "{'lymph_node_status', 'mean_area'}"
            ]
          },
          "metadata": {},
          "execution_count": 41
        }
      ]
    },
    {
      "cell_type": "code",
      "source": [
        "best_model_metrics"
      ],
      "metadata": {
        "colab": {
          "base_uri": "https://localhost:8080/"
        },
        "id": "pdrNnlnISG69",
        "outputId": "bb47958c-59d5-4d1a-e26c-1b0ce3383a0f"
      },
      "execution_count": null,
      "outputs": [
        {
          "output_type": "execute_result",
          "data": {
            "text/plain": [
              "{'MSE': 1.389784156382367,\n",
              " 'R2': 0.2561507482601547,\n",
              " 'Ar2': 0.24852152516538706,\n",
              " 'BIC': 212.99106928979793}"
            ]
          },
          "metadata": {},
          "execution_count": 42
        }
      ]
    },
    {
      "cell_type": "code",
      "source": [
        "variables=['mean_radius', 'mean_perimeter', 'mean_area','mean_smoothness','mean_symmetry',\n",
        "'mean_fractal_dimension','worst_radius','worst_area','worst_symmetry','lymph_node_status']\n",
        "model={}\n",
        "best_variable=None\n",
        "best_parameters=[]\n",
        "best_model_metrics=None\n",
        "y_bstep=np.array(df['tumor_size']).reshape(df['tumor_size'].shape[0],1)\n",
        "\n",
        "choosen_vars=[]\n",
        "best_choosen_vars=[]\n",
        "variables_len=9\n",
        "\n",
        "\n",
        "for _ in range(5):\n",
        "  current_best_variable=None\n",
        "  current_best_parameters=[]\n",
        "  current_best_model_metrics=None\n",
        "  for var in variables:\n",
        "    temp=variables.copy()\n",
        "    temp.remove(var)\n",
        "    x_bstep=np.array(df[temp])\n",
        "    x_bstep=x_bstep.reshape(x_bstep.shape[0],variables_len)\n",
        "    x_bstep=np.concatenate((np.array([[1]]*x_bstep.shape[0]),x_bstep),axis=1)\n",
        "\n",
        "    for _ in range(epochs):\n",
        "      X_transpose = x_bstep.T\n",
        "      params = np.linalg.inv(X_transpose.dot(x_bstep)).dot(X_transpose).dot(y_step)\n",
        "      y_bstep_hat=forwardPass(params,x_bstep)\n",
        "    metrics=evaluate(y_bstep_hat,y_bstep,variables_len)\n",
        "    print([choosen_vars+[var]],\"-->\",metrics['BIC'])\n",
        "    if(current_best_model_metrics==None or metrics['BIC']<current_best_model_metrics['BIC']):\n",
        "      current_best_model_metrics=metrics\n",
        "      current_best_parameters=params\n",
        "      current_best_variable=var\n",
        "\n",
        "  choosen_vars.append(current_best_variable)\n",
        "  variables.remove(current_best_variable)\n",
        "  if(best_model_metrics==None or current_best_model_metrics['BIC']<=best_model_metrics['BIC']):\n",
        "    best_model_metrics=current_best_model_metrics\n",
        "    best_parameters=current_best_parameters\n",
        "    best_variable=current_best_variable\n",
        "    best_choosen_vars=([choosen_vars+[current_best_variable]])\n",
        "  variables_len-=1"
      ],
      "metadata": {
        "id": "xKXRAChKNEY7",
        "colab": {
          "base_uri": "https://localhost:8080/"
        },
        "outputId": "1549dd79-f7b7-40e5-e467-d2643d1a054e"
      },
      "execution_count": null,
      "outputs": [
        {
          "output_type": "stream",
          "name": "stdout",
          "text": [
            "[['mean_radius']] --> 244.1325858290091\n",
            "[['mean_perimeter']] --> 244.7777928043476\n",
            "[['mean_area']] --> 244.39107762127867\n",
            "[['mean_smoothness']] --> 243.99913163693708\n",
            "[['mean_symmetry']] --> 244.36755817917134\n",
            "[['mean_fractal_dimension']] --> 244.3089854242998\n",
            "[['worst_radius']] --> 245.159511175438\n",
            "[['worst_area']] --> 244.97863104280373\n",
            "[['worst_symmetry']] --> 244.61993363254163\n",
            "[['lymph_node_status']] --> 297.1568987649244\n",
            "[['mean_smoothness', 'mean_radius']] --> 239.00325886295286\n",
            "[['mean_smoothness', 'mean_perimeter']] --> 239.63537845572185\n",
            "[['mean_smoothness', 'mean_area']] --> 239.22055225584734\n",
            "[['mean_smoothness', 'mean_symmetry']] --> 239.3601386267466\n",
            "[['mean_smoothness', 'mean_fractal_dimension']] --> 239.02190619004165\n",
            "[['mean_smoothness', 'worst_radius']] --> 240.00719144516268\n",
            "[['mean_smoothness', 'worst_area']] --> 239.82663611747788\n",
            "[['mean_smoothness', 'worst_symmetry']] --> 239.37523727809597\n",
            "[['mean_smoothness', 'lymph_node_status']] --> 291.90069039005095\n",
            "[['mean_smoothness', 'mean_radius', 'mean_perimeter']] --> 234.42229192543422\n",
            "[['mean_smoothness', 'mean_radius', 'mean_area']] --> 234.4708537659927\n",
            "[['mean_smoothness', 'mean_radius', 'mean_symmetry']] --> 234.3209773600082\n",
            "[['mean_smoothness', 'mean_radius', 'mean_fractal_dimension']] --> 233.89305764298575\n",
            "[['mean_smoothness', 'mean_radius', 'worst_radius']] --> 235.0879888156195\n",
            "[['mean_smoothness', 'mean_radius', 'worst_area']] --> 234.91487682850826\n",
            "[['mean_smoothness', 'mean_radius', 'worst_symmetry']] --> 234.24879400552368\n",
            "[['mean_smoothness', 'mean_radius', 'lymph_node_status']] --> 286.6496456435906\n",
            "[['mean_smoothness', 'mean_radius', 'mean_fractal_dimension', 'mean_perimeter']] --> 229.15703331064972\n",
            "[['mean_smoothness', 'mean_radius', 'mean_fractal_dimension', 'mean_area']] --> 229.1930216640984\n",
            "[['mean_smoothness', 'mean_radius', 'mean_fractal_dimension', 'mean_symmetry']] --> 229.0475420191906\n",
            "[['mean_smoothness', 'mean_radius', 'mean_fractal_dimension', 'worst_radius']] --> 229.80226103634496\n",
            "[['mean_smoothness', 'mean_radius', 'mean_fractal_dimension', 'worst_area']] --> 229.62751322846765\n",
            "[['mean_smoothness', 'mean_radius', 'mean_fractal_dimension', 'worst_symmetry']] --> 229.11034012896042\n",
            "[['mean_smoothness', 'mean_radius', 'mean_fractal_dimension', 'lymph_node_status']] --> 281.8489149161323\n",
            "[['mean_smoothness', 'mean_radius', 'mean_fractal_dimension', 'mean_symmetry', 'mean_perimeter']] --> 225.05547915225534\n",
            "[['mean_smoothness', 'mean_radius', 'mean_fractal_dimension', 'mean_symmetry', 'mean_area']] --> 224.9483546343623\n",
            "[['mean_smoothness', 'mean_radius', 'mean_fractal_dimension', 'mean_symmetry', 'worst_radius']] --> 225.51463841905982\n",
            "[['mean_smoothness', 'mean_radius', 'mean_fractal_dimension', 'mean_symmetry', 'worst_area']] --> 225.23313722467364\n",
            "[['mean_smoothness', 'mean_radius', 'mean_fractal_dimension', 'mean_symmetry', 'worst_symmetry']] --> 226.64364539361856\n",
            "[['mean_smoothness', 'mean_radius', 'mean_fractal_dimension', 'mean_symmetry', 'lymph_node_status']] --> 277.3164209208818\n"
          ]
        }
      ]
    },
    {
      "cell_type": "code",
      "source": [
        "best_model_metrics"
      ],
      "metadata": {
        "colab": {
          "base_uri": "https://localhost:8080/"
        },
        "id": "hkXO7oWcN95R",
        "outputId": "868d3e98-25c3-4abd-9e80-1a5601ca8388"
      },
      "execution_count": null,
      "outputs": [
        {
          "output_type": "execute_result",
          "data": {
            "text/plain": [
              "{'MSE': 1.3626257323056763,\n",
              " 'R2': 0.27068665539012615,\n",
              " 'Ar2': 0.251694120374244,\n",
              " 'BIC': 224.9483546343623}"
            ]
          },
          "metadata": {},
          "execution_count": 38
        }
      ]
    },
    {
      "cell_type": "code",
      "source": [
        "choosen_vars"
      ],
      "metadata": {
        "colab": {
          "base_uri": "https://localhost:8080/"
        },
        "id": "nuPhCyorPnu5",
        "outputId": "60607f5f-ea52-453a-e962-4f46f05450d4"
      },
      "execution_count": null,
      "outputs": [
        {
          "output_type": "execute_result",
          "data": {
            "text/plain": [
              "['mean_smoothness',\n",
              " 'mean_radius',\n",
              " 'mean_fractal_dimension',\n",
              " 'mean_symmetry',\n",
              " 'mean_area']"
            ]
          },
          "metadata": {},
          "execution_count": 39
        }
      ]
    },
    {
      "cell_type": "code",
      "source": [],
      "metadata": {
        "id": "DO0kdKy6PpiA"
      },
      "execution_count": null,
      "outputs": []
    },
    {
      "cell_type": "code",
      "source": [],
      "metadata": {
        "id": "kcAUyo3QUlK3"
      },
      "execution_count": null,
      "outputs": []
    },
    {
      "cell_type": "code",
      "source": [],
      "metadata": {
        "id": "aP1_5rXpUlHB"
      },
      "execution_count": null,
      "outputs": []
    },
    {
      "cell_type": "code",
      "source": [],
      "metadata": {
        "id": "1AouNU9IUlEh"
      },
      "execution_count": null,
      "outputs": []
    },
    {
      "cell_type": "code",
      "source": [],
      "metadata": {
        "id": "oqcIUsqtUlB4"
      },
      "execution_count": null,
      "outputs": []
    },
    {
      "cell_type": "code",
      "source": [],
      "metadata": {
        "id": "tGZammC7Uk_W"
      },
      "execution_count": null,
      "outputs": []
    },
    {
      "cell_type": "code",
      "source": [],
      "metadata": {
        "id": "JZcbPf8NUk8o"
      },
      "execution_count": null,
      "outputs": []
    },
    {
      "cell_type": "code",
      "source": [],
      "metadata": {
        "id": "xbHzY3MzUqO2"
      },
      "execution_count": null,
      "outputs": []
    }
  ]
}